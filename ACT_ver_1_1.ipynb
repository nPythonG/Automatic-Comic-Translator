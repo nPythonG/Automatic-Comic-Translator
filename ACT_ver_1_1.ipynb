{
  "nbformat": 4,
  "nbformat_minor": 0,
  "metadata": {
    "colab": {
      "provenance": [],
      "authorship_tag": "ABX9TyNTw3n3Ks3GqoRFShjnV280",
      "include_colab_link": true
    },
    "kernelspec": {
      "name": "python3",
      "display_name": "Python 3"
    },
    "language_info": {
      "name": "python"
    }
  },
  "cells": [
    {
      "cell_type": "markdown",
      "metadata": {
        "id": "view-in-github",
        "colab_type": "text"
      },
      "source": [
        "<a href=\"https://colab.research.google.com/github/nPythonG/Automatic-Comic-Translator/blob/main/ACT_ver_1_1.ipynb\" target=\"_parent\"><img src=\"https://colab.research.google.com/assets/colab-badge.svg\" alt=\"Open In Colab\"/></a>"
      ]
    },
    {
      "cell_type": "code",
      "source": [
        "!apt install tesseract-ocr"
      ],
      "metadata": {
        "colab": {
          "base_uri": "https://localhost:8080/"
        },
        "id": "9qV-YYh5eGO7",
        "outputId": "80117349-0447-4eb1-f928-11439b6b141d"
      },
      "execution_count": null,
      "outputs": [
        {
          "output_type": "stream",
          "name": "stdout",
          "text": [
            "Reading package lists... Done\n",
            "Building dependency tree       \n",
            "Reading state information... Done\n",
            "The following additional packages will be installed:\n",
            "  tesseract-ocr-eng tesseract-ocr-osd\n",
            "The following NEW packages will be installed:\n",
            "  tesseract-ocr tesseract-ocr-eng tesseract-ocr-osd\n",
            "0 upgraded, 3 newly installed, 0 to remove and 23 not upgraded.\n",
            "Need to get 4,850 kB of archives.\n",
            "After this operation, 16.3 MB of additional disk space will be used.\n",
            "Get:1 http://archive.ubuntu.com/ubuntu focal/universe amd64 tesseract-ocr-eng all 1:4.00~git30-7274cfa-1 [1,598 kB]\n",
            "Get:2 http://archive.ubuntu.com/ubuntu focal/universe amd64 tesseract-ocr-osd all 1:4.00~git30-7274cfa-1 [2,990 kB]\n",
            "Get:3 http://archive.ubuntu.com/ubuntu focal/universe amd64 tesseract-ocr amd64 4.1.1-2build2 [262 kB]\n",
            "Fetched 4,850 kB in 1s (4,815 kB/s)\n",
            "Selecting previously unselected package tesseract-ocr-eng.\n",
            "(Reading database ... 128276 files and directories currently installed.)\n",
            "Preparing to unpack .../tesseract-ocr-eng_1%3a4.00~git30-7274cfa-1_all.deb ...\n",
            "Unpacking tesseract-ocr-eng (1:4.00~git30-7274cfa-1) ...\n",
            "Selecting previously unselected package tesseract-ocr-osd.\n",
            "Preparing to unpack .../tesseract-ocr-osd_1%3a4.00~git30-7274cfa-1_all.deb ...\n",
            "Unpacking tesseract-ocr-osd (1:4.00~git30-7274cfa-1) ...\n",
            "Selecting previously unselected package tesseract-ocr.\n",
            "Preparing to unpack .../tesseract-ocr_4.1.1-2build2_amd64.deb ...\n",
            "Unpacking tesseract-ocr (4.1.1-2build2) ...\n",
            "Setting up tesseract-ocr-eng (1:4.00~git30-7274cfa-1) ...\n",
            "Setting up tesseract-ocr-osd (1:4.00~git30-7274cfa-1) ...\n",
            "Setting up tesseract-ocr (4.1.1-2build2) ...\n",
            "Processing triggers for man-db (2.9.1-1) ...\n"
          ]
        }
      ]
    },
    {
      "cell_type": "code",
      "source": [
        "!apt install tesseract-ocr-hin"
      ],
      "metadata": {
        "colab": {
          "base_uri": "https://localhost:8080/"
        },
        "id": "fAjjWQxkP-sQ",
        "outputId": "65a51a7f-5c38-4425-be63-4483491c8822"
      },
      "execution_count": null,
      "outputs": [
        {
          "output_type": "stream",
          "name": "stdout",
          "text": [
            "Reading package lists... Done\n",
            "Building dependency tree       \n",
            "Reading state information... Done\n",
            "The following NEW packages will be installed:\n",
            "  tesseract-ocr-hin\n",
            "0 upgraded, 1 newly installed, 0 to remove and 23 not upgraded.\n",
            "Need to get 913 kB of archives.\n",
            "After this operation, 1,138 kB of additional disk space will be used.\n",
            "Get:1 http://archive.ubuntu.com/ubuntu focal/universe amd64 tesseract-ocr-hin all 1:4.00~git30-7274cfa-1 [913 kB]\n",
            "Fetched 913 kB in 0s (7,484 kB/s)\n",
            "Selecting previously unselected package tesseract-ocr-hin.\n",
            "(Reading database ... 128323 files and directories currently installed.)\n",
            "Preparing to unpack .../tesseract-ocr-hin_1%3a4.00~git30-7274cfa-1_all.deb ...\n",
            "Unpacking tesseract-ocr-hin (1:4.00~git30-7274cfa-1) ...\n",
            "Setting up tesseract-ocr-hin (1:4.00~git30-7274cfa-1) ...\n"
          ]
        }
      ]
    },
    {
      "cell_type": "code",
      "source": [
        "!pip install pytesseract"
      ],
      "metadata": {
        "colab": {
          "base_uri": "https://localhost:8080/"
        },
        "id": "uy3zofw2eGkL",
        "outputId": "a58d759c-3774-4dc3-d63a-5ad7792915ae"
      },
      "execution_count": null,
      "outputs": [
        {
          "output_type": "stream",
          "name": "stdout",
          "text": [
            "Looking in indexes: https://pypi.org/simple, https://us-python.pkg.dev/colab-wheels/public/simple/\n",
            "Collecting pytesseract\n",
            "  Downloading pytesseract-0.3.10-py3-none-any.whl (14 kB)\n",
            "Requirement already satisfied: Pillow>=8.0.0 in /usr/local/lib/python3.9/dist-packages (from pytesseract) (8.4.0)\n",
            "Requirement already satisfied: packaging>=21.3 in /usr/local/lib/python3.9/dist-packages (from pytesseract) (23.0)\n",
            "Installing collected packages: pytesseract\n",
            "Successfully installed pytesseract-0.3.10\n"
          ]
        }
      ]
    },
    {
      "cell_type": "code",
      "execution_count": null,
      "metadata": {
        "id": "WQeWrKxCb8k5"
      },
      "outputs": [],
      "source": [
        "import cv2\n",
        "import numpy as np"
      ]
    },
    {
      "cell_type": "code",
      "source": [
        "import pytesseract"
      ],
      "metadata": {
        "id": "zwvPoN2ceeMK"
      },
      "execution_count": null,
      "outputs": []
    },
    {
      "cell_type": "code",
      "source": [
        "import matplotlib.pyplot as plt"
      ],
      "metadata": {
        "id": "4RlWzjhIduct"
      },
      "execution_count": null,
      "outputs": []
    },
    {
      "cell_type": "code",
      "source": [
        "# Load the image\n",
        "img = cv2.imread('testhi1.jpg', cv2.IMREAD_GRAYSCALE)\n",
        "\n"
      ],
      "metadata": {
        "id": "bV17EJXpdOPW"
      },
      "execution_count": null,
      "outputs": []
    },
    {
      "cell_type": "code",
      "source": [
        "# Binarization\n",
        "_, thresh = cv2.threshold(img, 127, 255, cv2.THRESH_BINARY)\n",
        "\n",
        "# Contrast enhancement\n",
        "clahe = cv2.createCLAHE(clipLimit=2.0, tileGridSize=(8,8))\n",
        "img_eq = clahe.apply(thresh)"
      ],
      "metadata": {
        "id": "GVBgyNvag1XY"
      },
      "execution_count": null,
      "outputs": []
    },
    {
      "cell_type": "code",
      "source": [
        "# Sharpening\n",
        "kernel = np.array([[-1,-1,-1], [-1,9,-1], [-1,-1,-1]])\n",
        "img_sharp = cv2.filter2D(img_eq, -1, kernel)\n"
      ],
      "metadata": {
        "id": "QEsTvhoaiAeD"
      },
      "execution_count": null,
      "outputs": []
    },
    {
      "cell_type": "code",
      "source": [
        "# Deskewing\n",
        "coords = np.column_stack(np.where(thresh > 0))\n",
        "angle = cv2.minAreaRect(coords)[-1]\n",
        "if angle < -45:\n",
        "    angle = -(90 + angle)\n",
        "else:\n",
        "    angle = -angle\n",
        "h, w = img.shape\n",
        "center = (w // 2, h // 2)\n",
        "M = cv2.getRotationMatrix2D(center, angle, 1.0)\n",
        "img_rot = cv2.warpAffine(img_sharp, M, (w, h), flags=cv2.INTER_CUBIC, borderMode=cv2.BORDER_REPLICATE)"
      ],
      "metadata": {
        "id": "Gc46bfOgg1dp"
      },
      "execution_count": null,
      "outputs": []
    },
    {
      "cell_type": "code",
      "source": [
        "cv2.imwrite('rotated_image.png', img_rot)"
      ],
      "metadata": {
        "colab": {
          "base_uri": "https://localhost:8080/"
        },
        "id": "L1XiaATffo8S",
        "outputId": "5f0c9d49-bcf8-4e67-ed04-7e21ac5338aa"
      },
      "execution_count": null,
      "outputs": [
        {
          "output_type": "execute_result",
          "data": {
            "text/plain": [
              "True"
            ]
          },
          "metadata": {},
          "execution_count": 63
        }
      ]
    },
    {
      "cell_type": "code",
      "source": [
        "cv2.imwrite('sharp_image.png', img_sharp)"
      ],
      "metadata": {
        "colab": {
          "base_uri": "https://localhost:8080/"
        },
        "id": "zO79W294MiUR",
        "outputId": "c9608200-395b-49d8-dec5-eca42e452e15"
      },
      "execution_count": null,
      "outputs": [
        {
          "output_type": "execute_result",
          "data": {
            "text/plain": [
              "True"
            ]
          },
          "metadata": {},
          "execution_count": 62
        }
      ]
    },
    {
      "cell_type": "code",
      "source": [
        "from google.colab import files\n",
        "\n",
        "# Download the rotated image\n",
        "files.download('rotated_image.png')"
      ],
      "metadata": {
        "colab": {
          "base_uri": "https://localhost:8080/",
          "height": 17
        },
        "id": "RpBV-vHvgCrm",
        "outputId": "5b749cae-683b-42a3-ad59-b7cd6fec617c"
      },
      "execution_count": null,
      "outputs": [
        {
          "output_type": "display_data",
          "data": {
            "text/plain": [
              "<IPython.core.display.Javascript object>"
            ],
            "application/javascript": [
              "\n",
              "    async function download(id, filename, size) {\n",
              "      if (!google.colab.kernel.accessAllowed) {\n",
              "        return;\n",
              "      }\n",
              "      const div = document.createElement('div');\n",
              "      const label = document.createElement('label');\n",
              "      label.textContent = `Downloading \"${filename}\": `;\n",
              "      div.appendChild(label);\n",
              "      const progress = document.createElement('progress');\n",
              "      progress.max = size;\n",
              "      div.appendChild(progress);\n",
              "      document.body.appendChild(div);\n",
              "\n",
              "      const buffers = [];\n",
              "      let downloaded = 0;\n",
              "\n",
              "      const channel = await google.colab.kernel.comms.open(id);\n",
              "      // Send a message to notify the kernel that we're ready.\n",
              "      channel.send({})\n",
              "\n",
              "      for await (const message of channel.messages) {\n",
              "        // Send a message to notify the kernel that we're ready.\n",
              "        channel.send({})\n",
              "        if (message.buffers) {\n",
              "          for (const buffer of message.buffers) {\n",
              "            buffers.push(buffer);\n",
              "            downloaded += buffer.byteLength;\n",
              "            progress.value = downloaded;\n",
              "          }\n",
              "        }\n",
              "      }\n",
              "      const blob = new Blob(buffers, {type: 'application/binary'});\n",
              "      const a = document.createElement('a');\n",
              "      a.href = window.URL.createObjectURL(blob);\n",
              "      a.download = filename;\n",
              "      div.appendChild(a);\n",
              "      a.click();\n",
              "      div.remove();\n",
              "    }\n",
              "  "
            ]
          },
          "metadata": {}
        },
        {
          "output_type": "display_data",
          "data": {
            "text/plain": [
              "<IPython.core.display.Javascript object>"
            ],
            "application/javascript": [
              "download(\"download_ae95aa6b-b9a8-4ef8-89bb-4ffea4e01f3a\", \"rotated_image.png\", 14237)"
            ]
          },
          "metadata": {}
        }
      ]
    },
    {
      "cell_type": "code",
      "source": [
        "# OCR using Tesseract\n",
        "text = pytesseract.image_to_string(img_sharp, lang=\"hin\")\n",
        "\n",
        "# Print the extracted text\n",
        "print(text)"
      ],
      "metadata": {
        "colab": {
          "base_uri": "https://localhost:8080/"
        },
        "id": "cg4Qgt77hUZR",
        "outputId": "3bc6b0c2-9990-488d-917b-af275bb5663c"
      },
      "execution_count": null,
      "outputs": [
        {
          "output_type": "stream",
          "name": "stdout",
          "text": [
            "हैप्पी न्यू ईयर एप | कथानक एंव चित्रांकन\n",
            "न्ब्थ ईयर डा, हरविन्द्र सांकड़\n",
            "छत\n",
            "\n",
            "| साल 5) 69५ 68%\n",
            "\n",
            " \n",
            "\n",
            " \n",
            "\n",
            " \n",
            "\n",
            ". $ की जा नये १] का\n",
            "स्वागत खास हंग\n",
            "से करना चाहिए।\n",
            "\n",
            " \n",
            "\n",
            " \n",
            "\n",
            "त आज\n",
            "\n",
            "तक किसी ने\n",
            "\n",
            "श॒ ०) पिले कि >) |\n",
            "जा किया हो।\n",
            "\n",
            "मुस्क्राते\n",
            "साल भरा\n",
            "\n",
            " \n",
            "\n",
            " \n",
            "\n",
            " \n",
            "\n",
            "डर के (2\n",
            "मोदू ५६ पतलू हर डा. झटका 5“ घसीटा\n",
            "\n",
            "मोटू, पतलू, घतीटा एवं डा, झटका कॉपी राईटएक्ट व ट्रेडमार्क के अन्तर्गत लोटपोट के लिए रजिस्टर्ड हैं।\n",
            "\f\n"
          ]
        }
      ]
    },
    {
      "cell_type": "code",
      "source": [
        "print(pytesseract.image_to_osd(img_sharp))"
      ],
      "metadata": {
        "colab": {
          "base_uri": "https://localhost:8080/"
        },
        "id": "nOMVANwlzvcV",
        "outputId": "b12290c6-3432-4019-e53a-c10a18c4c3c0"
      },
      "execution_count": null,
      "outputs": [
        {
          "output_type": "stream",
          "name": "stdout",
          "text": [
            "Page number: 0\n",
            "Orientation in degrees: 0\n",
            "Rotate: 0\n",
            "Orientation confidence: 0.75\n",
            "Script: Japanese\n",
            "Script confidence: 0.15\n",
            "\n"
          ]
        }
      ]
    },
    {
      "cell_type": "code",
      "source": [
        "print(pytesseract.image_to_boxes(img_rot))"
      ],
      "metadata": {
        "id": "y6Z1o7SS02I9"
      },
      "execution_count": null,
      "outputs": []
    },
    {
      "cell_type": "code",
      "source": [
        "# OCR using Tesseract\n",
        "text = pytesseract.image_to_string(img_sharp)\n",
        "\n",
        "# Print the extracted text\n",
        "print(text)"
      ],
      "metadata": {
        "colab": {
          "base_uri": "https://localhost:8080/"
        },
        "id": "f9fHztLrd0KG",
        "outputId": "d2fdd529-45bf-48fb-c865-ed0880102d8a"
      },
      "execution_count": null,
      "outputs": [
        {
          "output_type": "stream",
          "name": "stdout",
          "text": [
            " \n",
            "\n",
            " \n",
            "\n",
            " \n",
            "\n",
            " \n",
            "\n",
            " \n",
            "\n",
            " \n",
            "\n",
            " \n",
            "\n",
            " \n",
            "\f\n"
          ]
        }
      ]
    },
    {
      "cell_type": "code",
      "source": [
        "print(pytesseract.image_to_data(img_rot))"
      ],
      "metadata": {
        "id": "z8dljSyGU270"
      },
      "execution_count": null,
      "outputs": []
    },
    {
      "cell_type": "code",
      "source": [
        "contours, hierarchy = cv2.findContours(img_sharp, cv2.RETR_EXTERNAL,\n",
        "                                                 cv2.CHAIN_APPROX_NONE)\n",
        " \n",
        "# Creating a copy of image\n",
        "im2 = img.copy()\n",
        " \n",
        "# A text file is created and flushed\n",
        "file = open(\"recognized.txt\", \"w+\")\n",
        "file.write(\"\")\n",
        "file.close()\n",
        " \n",
        "# Looping through the identified contours\n",
        "# Then rectangular part is cropped and passed on\n",
        "# to pytesseract for extracting text from it\n",
        "# Extracted text is then written into the text file\n",
        "for cnt in contours:\n",
        "    x, y, w, h = cv2.boundingRect(cnt)\n",
        "     \n",
        "    # Drawing a rectangle on copied image\n",
        "    rect = cv2.rectangle(im2, (x, y), (x + w, y + h), (0, 255, 0), 2)\n",
        "     \n",
        "    # Cropping the text block for giving input to OCR\n",
        "    cropped = im2[y:y + h, x:x + w]\n",
        "     \n",
        "    # Open the file in append mode\n",
        "    file = open(\"recognized.txt\", \"a\")\n",
        "     \n",
        "    # Apply OCR on the cropped image\n",
        "    text2 = pytesseract.image_to_string(cropped,lang=\"hin\")\n",
        "    print(text2)\n",
        "        # Appending the text into file\n",
        "    file.write(text2)\n",
        "    file.write(\"\\n\")\n",
        "     \n",
        "    # Close the file\n",
        "    file.close\n"
      ],
      "metadata": {
        "id": "zCCxB7A9eaZu",
        "colab": {
          "base_uri": "https://localhost:8080/"
        },
        "outputId": "e49ed4f7-a049-4762-92de-816d7a8b7441"
      },
      "execution_count": null,
      "outputs": [
        {
          "output_type": "stream",
          "name": "stdout",
          "text": [
            " \n",
            "\n",
            " \n",
            "\n",
            "हैप्पी न्यू ईयर एफ | कथानक एंव चित्रांकन\n",
            "न्य्यू बट ईयर -डा. हरविन्द्र मांकड़\n",
            "\n",
            " \n",
            "\n",
            " \n",
            "\n",
            "ः साल 3७ आह\n",
            "आखिरी दिन है,\n",
            "कुछ ही घंटों में\n",
            "\n",
            "कक 2०६ का आगमन\n",
            "हो जायेगा।\n",
            "\n",
            "आध्र् कहा..\n",
            ". ह की नये न का\n",
            "स्वागत खास ढंग\n",
            "\"से करना चाहिए।\n",
            "\n",
            " \n",
            "\n",
            " \n",
            "\n",
            "दे आज\n",
            "तक किसी ने\n",
            "ना किया हो।\n",
            "\n",
            "यह तो कल\n",
            "सुबह पता चलेगा\n",
            "हम उसका स्वागत\n",
            "कैसे कर पायेंगे।\n",
            "\n",
            "   \n",
            "\n",
            "कुछ ऐसा देखने\n",
            "\n",
            "| कोमिलेकिबस |\n",
            "\n",
            "मुस्क्राते रहें पूरा\n",
            "साल भरा\n",
            "\n",
            "+\n",
            "् मोदू पतलू &% डा. झटका घसीटा\n",
            "\n",
            "मोटू, पतलू, घसीटा एवं डा. झटका कॉपी राईटएक्ट व ट्रेडमार्क के अन्तर्गत लोटपोट के लिए रजिस्टर्ड हैं।\n",
            "\n",
            " \n",
            "\n",
            " \n",
            "\f\n"
          ]
        }
      ]
    },
    {
      "cell_type": "code",
      "source": [
        "    # Appending the text into file\n",
        "    file.write(text2)\n",
        "    file.write(\"\\n\")\n",
        "     \n",
        "    # Close the file\n",
        "    file.close"
      ],
      "metadata": {
        "colab": {
          "base_uri": "https://localhost:8080/"
        },
        "id": "Lf18S2DrCdDu",
        "outputId": "886b33de-d5a3-49d8-9c3f-9158e284788a"
      },
      "execution_count": null,
      "outputs": [
        {
          "output_type": "execute_result",
          "data": {
            "text/plain": [
              "<function TextIOWrapper.close()>"
            ]
          },
          "metadata": {},
          "execution_count": 69
        }
      ]
    }
  ]
}